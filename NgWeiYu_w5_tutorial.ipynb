{
 "cells": [
  {
   "cell_type": "markdown",
   "id": "5c06dbd1-66fa-411a-b6f1-2d17c1140ba4",
   "metadata": {},
   "source": [
    "# Weekly Activity"
   ]
  },
  {
   "cell_type": "code",
   "execution_count": 28,
   "id": "1b78be78-b4b5-4782-a2b4-09203797547c",
   "metadata": {},
   "outputs": [
    {
     "data": {
      "text/plain": [
       "True"
      ]
     },
     "execution_count": 28,
     "metadata": {},
     "output_type": "execute_result"
    }
   ],
   "source": [
    "import sys\n",
    "assert sys.version_info >= (3, 8)\n",
    "\n",
    "import cv2 as cv\n",
    "import numpy as np\n",
    "import matplotlib.pyplot as plt\n",
    "import os\n",
    "import random\n",
    "from utils import *\n",
    "\n",
    "if not cv.useOptimized():\n",
    "    cv.setUseOptimized(True)\n",
    "\n",
    "cv.useOptimized()"
   ]
  },
  {
   "cell_type": "markdown",
   "id": "6bc200a1-5a78-4347-857b-10c63d94076a",
   "metadata": {},
   "source": [
    "# 1)Rotate image by 45 degrees without cropping the sides of the image. (Hint: There are 2 strategies to tackle these problems). Use \"lena.jfif\" as the input image.\n",
    "- Use external libraries imutils.\n",
    "- Modify the transformation matrix.\n"
   ]
  },
  {
   "cell_type": "code",
   "execution_count": 5,
   "id": "9df292f9-b47c-414a-90c4-01644a0d39aa",
   "metadata": {},
   "outputs": [
    {
     "name": "stdout",
     "output_type": "stream",
     "text": [
      "Requirement already satisfied: imutils in c:\\users\\hello\\avaconda\\lib\\site-packages (0.5.4)\n"
     ]
    }
   ],
   "source": [
    "!pip install imutils"
   ]
  },
  {
   "cell_type": "code",
   "execution_count": 5,
   "id": "75f49df2-9f42-44a6-b1c0-e10cd84fa79c",
   "metadata": {},
   "outputs": [],
   "source": [
    "import imutils\n",
    "import imutils as im\n",
    "\n",
    "img = cv.imread(\"images/lena.jfif\")\n",
    "\n",
    "rotated_img = im.rotate_bound(img, angle=-45)\n",
    "display_image(\"rotation\", rotated_img)"
   ]
  },
  {
   "cell_type": "code",
   "execution_count": 9,
   "id": "2a256039-51a5-484a-88a9-436a29d33cc6",
   "metadata": {},
   "outputs": [],
   "source": [
    "img = cv.imread(\"images/lena.jfif\")\n",
    "\n",
    "h, w = img.shape[:2]\n",
    "angle = 45\n",
    "\n",
    "yc, xc = h // 2, w // 2\n",
    "\n",
    "M = cv.getRotationMatrix2D((200, 80), angle, 1)\n",
    "dst = cv.warpAffine(img, M, (w+yc, h+xc))\n",
    "\n",
    "# M = np.float32([[1, 0, tx],[0, 1, ty]])\n",
    "#dst_new = cv.warpAffine(dst, M, (w+150, h+150))\n",
    "\n",
    "display_image(\"rotation\", dst)"
   ]
  },
  {
   "cell_type": "markdown",
   "id": "cab10989-62b5-49bb-8a57-f56acba7ad1c",
   "metadata": {},
   "source": [
    "## 2)Use the images with titles: \"flower.jfif\" and \"native-bee.png\". I want to put flower above an image. If I add two images, it will change color. If I blend it, I get a transparent effect. But I want it to be opaque. If it was a rectangular region, we could use the ROI as we did in the previous section. But flower is not a rectangular region. This is where bitwise operations, like AND, OR, NOT and XOR really come in handy. The associated functions are cv.bitwise_and(), cv.bitwise_or() and cv.bitwise_not(). You need to use cv.threshold function to segment the flower. Please refer to online documentation for more info. The result should resemble the following:\n",
    "bee and flowers"
   ]
  },
  {
   "cell_type": "code",
   "execution_count": 19,
   "id": "baab0a39-db0b-4e9d-a06c-04712a4eb826",
   "metadata": {},
   "outputs": [],
   "source": [
    "img = cv.imread(\"images/native-bee.png\")\n",
    "img2 = cv.imread(\"images/flower.jfif\")\n",
    "\n",
    "rows, cols, channels = img2.shape\n",
    "roi = img[0:rows, 0:cols]\n",
    "\n",
    "img2gray = cv.cvtColor(img2,cv.COLOR_BGR2GRAY)\n",
    "#70 = intensity value of the pixel, to remove black bg, 255, maximum intensity value\n",
    "ret, mask = cv.threshold(img2gray, 70, 255, cv.THRESH_BINARY) \n",
    "mask_inv = cv.bitwise_not(mask)\n",
    "\n",
    "img_bg = cv.bitwise_and(roi,roi,mask = mask_inv)\n",
    "img2_fg = cv.bitwise_and(img2,img2,mask = mask)\n",
    "\n",
    "dst = cv.add(img_bg,img2_fg)\n",
    "img[0:rows, 0:cols] = dst\n",
    "\n",
    "display_image(\"result\", img)\n",
    "cv.waitKey(0)\n",
    "cv.destroyAllWindows()"
   ]
  },
  {
   "cell_type": "markdown",
   "id": "452e815e-2356-4225-b026-d4720b178e33",
   "metadata": {},
   "source": [
    "## 3)Write a function that randomly crop the central region of an image. The method signature should be as shown in the following:\n",
    "```\n",
    "random_center_crop(image, min_crop_ratio, max_crop_ratio)\n",
    "```"
   ]
  },
  {
   "cell_type": "code",
   "execution_count": 32,
   "id": "e95b3b9d-2583-4d77-a90e-26a3900a3b03",
   "metadata": {},
   "outputs": [
    {
     "ename": "TypeError",
     "evalue": "matplotlib_show_images() missing 1 required positional argument: 'ncol'",
     "output_type": "error",
     "traceback": [
      "\u001b[1;31m---------------------------------------------------------------------------\u001b[0m",
      "\u001b[1;31mTypeError\u001b[0m                                 Traceback (most recent call last)",
      "Cell \u001b[1;32mIn[32], line 13\u001b[0m\n\u001b[0;32m     10\u001b[0m dst \u001b[38;5;241m=\u001b[39m cv\u001b[38;5;241m.\u001b[39mfilter2D(img, \u001b[38;5;241m-\u001b[39m\u001b[38;5;241m1\u001b[39m, kernel)\n\u001b[0;32m     11\u001b[0m dst2 \u001b[38;5;241m=\u001b[39m cv\u001b[38;5;241m.\u001b[39mfilter2D(img, \u001b[38;5;241m-\u001b[39m\u001b[38;5;241m1\u001b[39m, kernel2)\n\u001b[1;32m---> 13\u001b[0m plt\u001b[38;5;241m.\u001b[39msubplot(\u001b[38;5;241m131\u001b[39m), matplotlib_show_images (dst, \u001b[38;5;124m\"\u001b[39m\u001b[38;5;124m3x3\u001b[39m\u001b[38;5;124m\"\u001b[39m) \n\u001b[0;32m     14\u001b[0m \u001b[38;5;66;03m#sharpend wihtin the range of formula  (sharpened = original + (original − blurred) × amount), pic look obvious and clean\u001b[39;00m\n\u001b[0;32m     15\u001b[0m plt\u001b[38;5;241m.\u001b[39msubplot(\u001b[38;5;241m132\u001b[39m), matplotlib_show_images(dst2, \u001b[38;5;124m\"\u001b[39m\u001b[38;5;124m5x5\u001b[39m\u001b[38;5;124m\"\u001b[39m) \n",
      "\u001b[1;31mTypeError\u001b[0m: matplotlib_show_images() missing 1 required positional argument: 'ncol'"
     ]
    },
    {
     "data": {
      "image/png": "[encoded data removed]",
      "text/plain": [
       "<Figure size 640x480 with 1 Axes>"
      ]
     },
     "metadata": {},
     "output_type": "display_data"
    }
   ],
   "source": [
    "img = cv.imread(\"images/native-bee.png\")\n",
    "\n",
    "kernel = np.array([[0, -1, 0], [-1, 5, -1], [0, -1, 0]])\n",
    "kernel2 = np.array([[-1, -1, -1, -1, -1],\n",
    "                   [-1, -1, -1, -1, -1],\n",
    "                   [-1, -1, 25, -1, -1],\n",
    "                   [-1, -1, -1, -1, -1],\n",
    "                   [-1, -1, -1, -1, -1]])\n",
    "\n",
    "dst = cv.filter2D(img, -1, kernel)\n",
    "dst2 = cv.filter2D(img, -1, kernel2)\n",
    "\n",
    "plt.subplot(131), matplotlib_show_images(dst, \"3x3\") \n",
    "#sharpend wihtin the range of formula  (sharpened = original + (original − blurred) × amount), pic look obvious and clean\n",
    "plt.subplot(132), matplotlib_show_images(dst2, \"5x5\") \n",
    "#Way too much sharpend, consists of noise in the picture\n",
    "plt.subplot(133), matplotlib_show_images(img, \"normal\")"
   ]
  }
 ],
 "metadata": {
  "kernelspec": {
   "display_name": "Python 3 (ipykernel)",
   "language": "python",
   "name": "python3"
  },
  "language_info": {
   "codemirror_mode": {
    "name": "ipython",
    "version": 3
   },
   "file_extension": ".py",
   "mimetype": "text/x-python",
   "name": "python",
   "nbconvert_exporter": "python",
   "pygments_lexer": "ipython3",
   "version": "3.12.4"
  }
 },
 "nbformat": 4,
 "nbformat_minor": 5
}
