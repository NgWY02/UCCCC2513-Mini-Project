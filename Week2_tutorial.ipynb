{
 "cells": [
  {
   "cell_type": "markdown",
   "id": "1100505c-d59c-4779-986f-dde3aea475f8",
   "metadata": {},
   "source": [
    "## Exercises\n",
    "## Q1\n",
    "\n",
    "1. Find the range of values for each of the following data types:\n",
    "   - unit8\n",
    "   - int8\n",
    "   - uint32\n",
    "   - int32\n"
   ]
  },
  {
   "cell_type": "code",
   "execution_count": 6,
   "id": "3c7f082c-1698-4cc9-9396-f1057f906b1e",
   "metadata": {},
   "outputs": [
    {
     "data": {
      "text/plain": [
       "{'uint8': (0, 255),\n",
       " 'int8': (-128, 127),\n",
       " 'uint32': (0, 4294967295),\n",
       " 'int32': (-2147483648, 2147483647)}"
      ]
     },
     "execution_count": 6,
     "metadata": {},
     "output_type": "execute_result"
    }
   ],
   "source": [
    "import numpy as np\n",
    "\n",
    "# Get the range of values for each data type\n",
    "ranges = {\n",
    "    \"uint8\": (np.iinfo(np.uint8).min, np.iinfo(np.uint8).max),\n",
    "    \"int8\": (np.iinfo(np.int8).min, np.iinfo(np.int8).max),\n",
    "    \"uint32\": (np.iinfo(np.uint32).min, np.iinfo(np.uint32).max),\n",
    "    \"int32\": (np.iinfo(np.int32).min, np.iinfo(np.int32).max)\n",
    "}\n",
    "\n",
    "ranges\n"
   ]
  },
  {
   "cell_type": "markdown",
   "id": "8713a6a5-2fc2-442f-8579-626bd80076e2",
   "metadata": {},
   "source": [
    "# Q2\n",
    "2. Try to write a simple custom function to determine whether a given integer is odd or even number."
   ]
  },
  {
   "cell_type": "code",
   "execution_count": 34,
   "id": "2170c85d-035f-4da2-9f63-fa5c08588b54",
   "metadata": {},
   "outputs": [],
   "source": [
    "def odd_even(number):\n",
    "    if number % 2 == 0:\n",
    "        return \"Even\"\n",
    "    else:\n",
    "        return \"odd\""
   ]
  },
  {
   "cell_type": "code",
   "execution_count": 36,
   "id": "c3631452-6b30-493a-982a-974ed0c3bb2c",
   "metadata": {},
   "outputs": [
    {
     "data": {
      "text/plain": [
       "'Even'"
      ]
     },
     "execution_count": 36,
     "metadata": {},
     "output_type": "execute_result"
    }
   ],
   "source": [
    "odd_even(2)"
   ]
  },
  {
   "cell_type": "markdown",
   "id": "2976e240-a644-47a2-a450-2a01cbd0c9d7",
   "metadata": {},
   "source": [
    "## Q3\n",
    "3. Write a simple example code to show that Numpy is more efficient in numerical computation of large arrays of data than equivalent Python list."
   ]
  },
  {
   "cell_type": "code",
   "execution_count": 55,
   "id": "d9555c9d-99dc-48c7-af79-ae34104d68ef",
   "metadata": {},
   "outputs": [
    {
     "name": "stdout",
     "output_type": "stream",
     "text": [
      "The computation time for numpy array\n",
      "CPU times: total: 15.6 ms\n",
      "Wall time: 11.3 ms\n",
      "\n",
      "The computation time for python list\n",
      "CPU times: total: 78.1 ms\n",
      "Wall time: 409 ms\n"
     ]
    }
   ],
   "source": [
    "import numpy as np\n",
    "\n",
    "my_arr = np.arange(1000000)\n",
    "my_list = list(range(1000000))\n",
    "\n",
    "print(\"The computation time for numpy array\")\n",
    "%time for _ in range(10): my_arr2 = my_arr * 2\n",
    "\n",
    "print(\"\\nThe computation time for python list\")\n",
    "%time for _ in range(10): my_list2 = [x * 2 for x in my_list]"
   ]
  },
  {
   "cell_type": "markdown",
   "id": "bbd0a974-4e59-4fb1-ad46-dacccb69e4ba",
   "metadata": {},
   "source": [
    "## Q4\n",
    "Run the following codes:\r\n",
    "    # create a 1D array\r\n",
    "    my_arr = np.arange(10)\r\n",
    "    print(\"Initial my_arr: \", my_arr)\r\n",
    "    arr_slice = my_arr\r\n",
    "    print(\"Initial arr_slice: \", arr_slice)\r\n",
    "\r\n",
    "    # change the first element of arr_slice\r\n",
    "    arr_slice[0] = 55\r\n",
    "\r\n",
    "    print(\"my_arr: \", my_arr)\r\n",
    "    print(\"arr_slice: \", arr_slice)\r\n",
    "What do you notice? Propose a way to reassign arr_slice with new value without modifying my_arr.\n"
   ]
  },
  {
   "cell_type": "code",
   "execution_count": 8,
   "id": "27918c1c-8514-4a23-882b-d3c8bcc6a1ba",
   "metadata": {},
   "outputs": [
    {
     "name": "stdout",
     "output_type": "stream",
     "text": [
      "Initial my_arr:  [0 1 2 3 4 5 6 7 8 9]\n",
      "Initial arr_slice:  [0 1 2 3 4 5 6 7 8 9]\n",
      "my_arr:  [55  1  2  3  4  5  6  7  8  9]\n",
      "arr_slice:  [55  1  2  3  4  5  6  7  8  9]\n"
     ]
    }
   ],
   "source": [
    "# create a 1D array\n",
    "my_arr = np.arange(10)\n",
    "print(\"Initial my_arr: \", my_arr)\n",
    "arr_slice = my_arr\n",
    "print(\"Initial arr_slice: \", arr_slice)\n",
    "\n",
    "# change the first element of arr_slice\n",
    "arr_slice[0] = 55\n",
    "print(\"my_arr: \", my_arr)\n",
    "print(\"arr_slice: \", arr_slice)"
   ]
  },
  {
   "cell_type": "markdown",
   "id": "24b5fd5b-bf41-46d0-b971-3ae7acbb76e9",
   "metadata": {},
   "source": [
    "The my_arr first element value also changes.\n"
   ]
  },
  {
   "cell_type": "markdown",
   "id": "dafbc53c-bef7-4466-bf0f-ea5b115f3f32",
   "metadata": {},
   "source": [
    "## Q4ANS\n"
   ]
  },
  {
   "cell_type": "code",
   "execution_count": 17,
   "id": "968090a8-7270-4748-94f0-1f2bd73c2402",
   "metadata": {},
   "outputs": [
    {
     "name": "stdout",
     "output_type": "stream",
     "text": [
      "Initial my_arr:  [0 1 2 3 4 5 6 7 8 9]\n",
      "Initial arr_slice:  [0 1 2 3 4 5 6 7 8 9]\n",
      "my_arr:  [0 1 2 3 4 5 6 7 8 9]\n",
      "arr_slice:  [55  1  2  3  4  5  6  7  8  9]\n"
     ]
    }
   ],
   "source": [
    "# create a 1D array\n",
    "my_arr = np.arange(10)\n",
    "print(\"Initial my_arr: \", my_arr)\n",
    "arr_slice = my_arr.copy()\n",
    "print(\"Initial arr_slice: \", arr_slice)\n",
    "\n",
    "# change the first element of arr_slice\n",
    "arr_slice[0] = 55\n",
    "print(\"my_arr: \", my_arr)\n",
    "print(\"arr_slice: \", arr_slice)"
   ]
  },
  {
   "cell_type": "markdown",
   "id": "9f817d1c-aa49-4067-acdc-c0954df0935e",
   "metadata": {},
   "source": [
    "## Q5\n",
    "Create an image as shown as the following with the help of Numpy and matplotlib modules. You can arbitrarily set the dimension of the image and white circular spot at the middle."
   ]
  },
  {
   "cell_type": "code",
   "execution_count": 33,
   "id": "05b1c1c2-0805-4068-b236-e63a06e61193",
   "metadata": {},
   "outputs": [
    {
     "data": {
      "image/png": "[encoded data removed]",
      "text/plain": [
       "<Figure size 600x600 with 1 Axes>"
      ]
     },
     "metadata": {},
     "output_type": "display_data"
    }
   ],
   "source": [
    "import numpy as np\n",
    "import matplotlib.pyplot as plt\n",
    "\n",
    "# Define dimensions of the image\n",
    "width = 300\n",
    "height = 300\n",
    "\n",
    "# Create a blank image array\n",
    "image = np.zeros((height, width))\n",
    "\n",
    "# Find the center of the image\n",
    "center_x = width // 2\n",
    "center_y = height // 2\n",
    "\n",
    "# Radius of the circular spot\n",
    "radius = 40\n",
    "\n",
    "# Create a grid of distances from the center\n",
    "y, x = np.ogrid[:height, :width]\n",
    "dist_from_center = np.sqrt((x - center_x)**2 + (y - center_y)**2)\n",
    "\n",
    "# Set pixels within the radius to white (1.0)\n",
    "image[dist_from_center <= radius] = 1.0\n",
    "\n",
    "# Display the image\n",
    "plt.figure(figsize=(6, 6))  # Adjust figure size for better visibility\n",
    "plt.imshow(image, cmap='gray')\n",
    "plt.axis('off')  # Turn off axis labels\n",
    "plt.show()\n"
   ]
  },
  {
   "cell_type": "code",
   "execution_count": null,
   "id": "5f47565e-51b0-4775-be93-919cb9c21772",
   "metadata": {},
   "outputs": [],
   "source": []
  }
 ],
 "metadata": {
  "kernelspec": {
   "display_name": "Python 3 (ipykernel)",
   "language": "python",
   "name": "python3"
  },
  "language_info": {
   "codemirror_mode": {
    "name": "ipython",
    "version": 3
   },
   "file_extension": ".py",
   "mimetype": "text/x-python",
   "name": "python",
   "nbconvert_exporter": "python",
   "pygments_lexer": "ipython3",
   "version": "3.12.4"
  }
 },
 "nbformat": 4,
 "nbformat_minor": 5
}
